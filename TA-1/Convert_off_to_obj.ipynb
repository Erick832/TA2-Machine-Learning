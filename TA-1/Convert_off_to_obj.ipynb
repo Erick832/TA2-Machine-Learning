{
 "cells": [
  {
   "cell_type": "code",
   "execution_count": 1,
   "metadata": {},
   "outputs": [],
   "source": [
    "import numpy as np\n"
   ]
  },
  {
   "cell_type": "code",
   "execution_count": 2,
   "metadata": {},
   "outputs": [],
   "source": [
    "def read_file(name_file):\n",
    "    with open(name_file, \"r\") as file:\n",
    "        my_list = [line.rstrip() for line in file]\n",
    "\n",
    "    my_list.remove('OFF')\n",
    "    new_list = []\n",
    "\n",
    "    for e in my_list:\n",
    "        temp_list = []\n",
    "        for sub_e in e.split(\" \"):\n",
    "            temp_list.append(float(sub_e))\n",
    "        new_list.append(temp_list)\n",
    "\n",
    "    div = int(new_list[0][0])\n",
    "    new_list.pop(0)\n",
    "\n",
    "    vertex_list = np.array(new_list[:div])\n",
    "    faces_list = np.array(new_list[div:])\n",
    "\n",
    "    return vertex_list, faces_list\n"
   ]
  },
  {
   "cell_type": "code",
   "execution_count": 3,
   "metadata": {},
   "outputs": [],
   "source": [
    "def get_normal_list(vertex_list, faces_list):\n",
    "    surface_normal = []\n",
    "    faces_transformed = []\n",
    "    for face in faces_list:\n",
    "        s_a = int(face[1])\n",
    "        s_b = int(face[2])\n",
    "        s_c = int(face[3])\n",
    "\n",
    "        A = vertex_list[s_a]\n",
    "        B = vertex_list[s_b]\n",
    "        C = vertex_list[s_c]\n",
    "\n",
    "        AB = B-A\n",
    "        AC = C-A\n",
    "\n",
    "        surface_normal.append(np.cross(AB, AC))\n",
    "        faces_transformed.append([[s_a+1, s_b+1, s_c+1], len(surface_normal)])\n",
    "\n",
    "    return surface_normal, faces_transformed\n"
   ]
  },
  {
   "cell_type": "code",
   "execution_count": 4,
   "metadata": {},
   "outputs": [],
   "source": [
    "def create_obj_file(name_file):\n",
    "    vertex_list, faces_list = read_file(name_file)\n",
    "    surface_normal, faces_transformed = get_normal_list(vertex_list, faces_list)\n",
    "\n",
    "    file_obj = open('./'+name_file[:-4]+'.obj', 'x', encoding='utf8')\n",
    "    file_obj.write('g '+name_file[:-4]+'\\n')\n",
    "\n",
    "    for v in vertex_list:\n",
    "        file_obj.write('v ' + str(v)[1:-1]+'\\n')\n",
    "\n",
    "    file_obj.write('\\n')\n",
    "    for normal in surface_normal:\n",
    "        file_obj.write('vn ' + str(normal)[1:-1]+'\\n')\n",
    "\n",
    "    file_obj.write('\\n')\n",
    "    for face in faces_transformed:\n",
    "        v1 = str(face[0][0])\n",
    "        v2 = str(face[0][1])\n",
    "        v3 = str(face[0][2])\n",
    "        vn = str(face[1])\n",
    "        word = \"f \"+v1 + \"//\"+vn+\" \"+v2+\"//\"+vn+\" \"+v3+\"//\"+vn+\"\\n\"\n",
    "        file_obj.write(word)\n",
    "\n",
    "    file_obj.close()\n"
   ]
  },
  {
   "cell_type": "code",
   "execution_count": 5,
   "metadata": {},
   "outputs": [],
   "source": [
    "name_file = \"bed_0519.off\"\n",
    "create_obj_file(name_file)\n"
   ]
  }
 ],
 "metadata": {
  "kernelspec": {
   "display_name": "Python 3.10.7 64-bit",
   "language": "python",
   "name": "python3"
  },
  "language_info": {
   "codemirror_mode": {
    "name": "ipython",
    "version": 3
   },
   "file_extension": ".py",
   "mimetype": "text/x-python",
   "name": "python",
   "nbconvert_exporter": "python",
   "pygments_lexer": "ipython3",
   "version": "3.10.7"
  },
  "orig_nbformat": 4,
  "vscode": {
   "interpreter": {
    "hash": "e854daa4aeedc895c2842aa1ed19b59030b12803bb9605ec34e63686515728bc"
   }
  }
 },
 "nbformat": 4,
 "nbformat_minor": 2
}
