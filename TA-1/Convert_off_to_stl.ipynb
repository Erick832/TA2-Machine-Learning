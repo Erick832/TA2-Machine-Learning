{
 "cells": [
  {
   "cell_type": "code",
   "execution_count": 4,
   "metadata": {},
   "outputs": [],
   "source": [
    "import numpy as np"
   ]
  },
  {
   "cell_type": "code",
   "execution_count": 125,
   "metadata": {},
   "outputs": [],
   "source": [
    "def vnu(v1,v2,v3):\n",
    "    v1 = np.array(v1)\n",
    "    v2 = np.array(v2)\n",
    "    v3 = np.array(v3)\n",
    "    pq = v2 - v1 \n",
    "    pr = v3 - v1\n",
    "    i = pq[1]*pr[2]-pq[2]*pr[1]\n",
    "    j = pq[0]*pr[2]-pq[2]*pr[0]\n",
    "    k = pq[0]*pr[1]-pq[1]*pr[0]\n",
    "\n",
    "    vr = np.array([i,-1*j,k])\n",
    "    u = vr/np.linalg.norm(vr)\n",
    "    return u"
   ]
  },
  {
   "cell_type": "code",
   "execution_count": 82,
   "metadata": {},
   "outputs": [],
   "source": [
    "def leerOff(url):\n",
    "    file = open(url)\n",
    "    cont = 0\n",
    "    contv = 0\n",
    "    contT = 0\n",
    "    vectores = []\n",
    "    triangulos = []\n",
    "    for line in file:\n",
    "        if len(line.split()) == 0:\n",
    "            break\n",
    "        if cont == 0:\n",
    "            cont += 1\n",
    "            continue\n",
    "        if cont == 1:\n",
    "            n,m,l = line.split()\n",
    "            n = int(n)\n",
    "            m = int(m)\n",
    "            cont = 1000\n",
    "            continue\n",
    "        if contv < n and cont == 1000:\n",
    "            a,b,c = line.split()\n",
    "            a,b,c = float(a),float(b),float(c)\n",
    "            vectores.append([a,b,c])\n",
    "            contv +=1\n",
    "        else:\n",
    "            cont = 2000\n",
    "        if contT < m and cont == 2000:\n",
    "            _,a,b,c = line.split()\n",
    "            a,b,c = int(a),int(b),int(c)\n",
    "            triangulos.append([a,b,c])\n",
    "            contT +=1\n",
    "    file.close()\n",
    "    return vectores, triangulos"
   ]
  },
  {
   "cell_type": "code",
   "execution_count": 159,
   "metadata": {},
   "outputs": [],
   "source": [
    "def convert_off_to_stl(url):\n",
    "    name = url[:-4]\n",
    "    v, t = leerOff(url)\n",
    "    f = open(name+\".stl\",\"w\")\n",
    "    f.write(f\"solid {name} \\n\")\n",
    "    while len(t) > 0:  \n",
    "        t1 = t.pop(0)\n",
    "        v1 = [v[i] for i in t1]\n",
    "        vn = vnu(v1[0],v1[1],v1[2])\n",
    "        f.write(f\"facet normal {vn[0]} {vn[1]} {vn[2]} \\n\")\n",
    "        f.write(\" outer loop \\n\")\n",
    "        f.write(f\"  vertex {v1[0][0]} {v1[0][1]} {v1[0][2]} \\n\")\n",
    "        f.write(f\"  vertex {v1[1][0]} {v1[1][1]} {v1[1][2]} \\n\")\n",
    "        f.write(f\"  vertex {v1[2][0]} {v1[2][1]} {v1[2][2]} \\n\")\n",
    "        f.write(\" endloop \\n\")\n",
    "        f.write(\"endfacet \\n\")\n",
    "    f.write(f\" endsolid {name} \\n\")\n",
    "    f.write(\"\\n\")\n",
    "    f.close()"
   ]
  },
  {
   "cell_type": "code",
   "execution_count": 160,
   "metadata": {},
   "outputs": [
    {
     "name": "stderr",
     "output_type": "stream",
     "text": [
      "C:\\Users\\pc\\AppData\\Local\\Temp\\ipykernel_25144\\4080161209.py:12: RuntimeWarning: invalid value encountered in true_divide\n",
      "  u = vr/np.linalg.norm(vr)\n"
     ]
    }
   ],
   "source": [
    "convert_off_to_stl(\"bed_0517.off\")"
   ]
  }
 ],
 "metadata": {
  "kernelspec": {
   "display_name": "Python 3.9.7 ('base')",
   "language": "python",
   "name": "python3"
  },
  "language_info": {
   "codemirror_mode": {
    "name": "ipython",
    "version": 3
   },
   "file_extension": ".py",
   "mimetype": "text/x-python",
   "name": "python",
   "nbconvert_exporter": "python",
   "pygments_lexer": "ipython3",
   "version": "3.9.7"
  },
  "orig_nbformat": 4,
  "vscode": {
   "interpreter": {
    "hash": "631af202ec7c40e141c49d63cac6c8cb664469fed6e4d5ddc6436b49edc60500"
   }
  }
 },
 "nbformat": 4,
 "nbformat_minor": 2
}
